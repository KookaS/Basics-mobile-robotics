{
 "cells": [
  {
   "cell_type": "markdown",
   "metadata": {},
   "source": [
    "# Extended Kalman Filter Design\n",
    "\n",
    "The objective here is to estimate the state $x$ from noisy sensors measurements $y$."
   ]
  },
  {
   "cell_type": "markdown",
   "metadata": {},
   "source": [
    "## Control model"
   ]
  },
  {
   "cell_type": "markdown",
   "metadata": {},
   "source": [
    "Let's start by defining the discrete-time state-space model $x_{t+1} = f(x_t, u_t)$ where the state $x_t$ is a vector representing the pose of the robot (2D position and orientation), i.e. $x_t =  \\begin{bmatrix} x_t\\\\ y_t\\\\\\theta_t  \\end{bmatrix}$, and $u_t$ denotes the control input (here the reading from a proprioceptive sensor). Hence, $u_t$ can be written as $u_t =  \\begin{bmatrix} \\Delta_{s_r}\\\\ \\Delta_{s_l}  \\end{bmatrix}$, where $\\Delta_{s_r}$ and $\\Delta_{s_l}$ are the encoder readings of the right and left wheel.\n",
    "\n",
    "Furthermore, let's define some useful variables\n",
    "\n",
    "\\begin{itemize}\n",
    "    \\item $\\Delta_{s_r}$ : travelled distance for the right wheel \n",
    "    \\item $\\Delta_{s_l}$ : travelled distance for the left wheel \n",
    "    \\item $\\Delta s = \\frac{\\Delta_{s_r} + \\Delta_{s_l}}{2}$\n",
    "    \\item $(\\Delta x, \\Delta y, \\Delta \\theta)$ : path travelled in the last sampling interval of fixed length $T_s$\n",
    "    \\item $\\Delta \\theta = \\frac{\\Delta_{s_r} - \\Delta_{s_l}}{b}$ \n",
    "    \\item $b$ : the distance between the two wheels of the differential drive robot \n",
    "\\end{itemize}\n",
    "$x_{t+1}= f(x_t, u_t) = f(x_t, y_t, \\theta_t, \\Delta_{s_r}, \\Delta_{s_l}) =  \\begin{bmatrix} x_{t+1}\\\\ y_{t+1}\\\\\\theta_{t+1}  \\end{bmatrix} = \\begin{bmatrix} x_t + \\Delta_s cos(\\theta_t + \\frac{\\Delta \\theta}{2})\\\\ y_t + \\Delta_s sin(\\theta_t + \\frac{\\Delta \\theta}{2}) \\\\ \\theta_t + \\Delta \\theta  \\end{bmatrix}$\n",
    " \n",
    "\n",
    "Since $f(x_t, u_t)$ is a non-linear function, we will have to linearize it around tehe point ($\\mu_{x_t}$,$\\mu_{u_t}$). In order to do so, let's calculate the two jacobian matrices:\n",
    "\n",
    "$F_x = \\left.\\frac{\\partial f(x_t, u_t)}{\\partial x_t} \\right|_{(\\mu_{x_t},\\mu_{u_t})} = \\begin{bmatrix} \n",
    "1 & 0 & -\\Delta_s sin(\\theta_t + \\frac{\\Delta \\theta}{2}) \\\\ \n",
    "0 & 1 & \\Delta_s cos(\\theta_t + \\frac{\\Delta \\theta}{2})\\\\ \n",
    "0 & 0 & 1\n",
    "\\end{bmatrix}$\n",
    "\n",
    "$F_u = \\left.\\frac{\\partial f(x_t, u_t)}{\\partial u_t} \\right|_{(\\mu_{x_t},\\mu_{u_t})} = \\begin{bmatrix} \n",
    "\\frac{1}{2} cos(\\theta_t + \\frac{\\Delta \\theta}{2}) - \\frac{\\Delta_s}{2b} sin(\\theta_t + \\frac{\\Delta \\theta}{2}) & \\frac{1}{2} cos(\\theta_t + \\frac{\\Delta \\theta}{2}) + \\frac{\\Delta_s}{2b} sin(\\theta_t + \\frac{\\Delta \\theta}{2}) \\\\ \n",
    "\\frac{1}{2} sin(\\theta_t + \\frac{\\Delta \\theta}{2}) + \\frac{\\Delta_s}{2b} cos(\\theta_t + \\frac{\\Delta \\theta}{2}) & \\frac{1}{2} sin(\\theta_t + \\frac{\\Delta \\theta}{2}) - \\frac{\\Delta_s}{2b} cos(\\theta_t + \\frac{\\Delta \\theta}{2}) \\\\\n",
    "\\frac{1}{b} & - \\frac{1}{b}\n",
    "\\end{bmatrix}$\n",
    "\n",
    "\n",
    "\n",
    "The control input has an associated covariance matrix $R= \\begin{bmatrix} k_r  |\\Delta_{s_r}| & 0\\\\ 0 & k_l|\\Delta_{s_l}|  \\end{bmatrix}$, where $k_r$ and $k_r$ are constants to be determined experimentally. \n",
    "\n",
    "\n",
    "The prediction step is:\n",
    "\\begin{itemize}\n",
    "    \\item $\\overline{\\mu}_{t} = f(\\mu_{x_{t-1}},\\mu_{u_{t-1}})$\n",
    "    \\item $\\overline{\\Sigma}_{t} = F_x \\Sigma_{t-1} F_x^T + F_u R F_u^T$\n",
    "\\end{itemize}"
   ]
  },
  {
   "cell_type": "markdown",
   "metadata": {},
   "source": [
    "## Measurement model\n",
    "\n",
    "The measurement model is the following :\n",
    "\n",
    "$y_t = H_t x_t + \\epsilon_t = \\begin{bmatrix} 1 & 0 & 0\\\\ 0 & 1 & 0\\\\ 0 & 0 & 1 \\end{bmatrix} \\begin{bmatrix} x_t\\\\ y_t\\\\\\theta_t  \\end{bmatrix} + \\epsilon_t$, where $\\epsilon_t$ is the measurment noise with zero mean and covariance $Q = \\begin{bmatrix} q_x & 0 & 0\\\\ 0 & q_y & 0 \\\\ 0 & 0 & q_{\\theta}  \\end{bmatrix} $. \n",
    "\n",
    "$z_t = \\begin{bmatrix} z_{x_t}\\\\ z_{y_t}\\\\ z_{\\theta_t}  \\end{bmatrix}$ is the reading from the camera (exteroceptive sensor), also called the observation.\n",
    "\n",
    "The kalman gain is defined as $K_t = \\overline{\\Sigma}_{t}H_t^T(H_t \\overline{\\Sigma}_{t} H_t^T + Q)^{-1} = \\overline{\\Sigma}_{t}( \\overline{\\Sigma}_{t} + Q)^{-1}$. \n",
    "\n",
    "Hence, the update step is :\n",
    "\\begin{itemize}\n",
    "    \\item $\\mu_{t} = \\overline{\\mu}_{t} + K_t(z_t - \\overline{\\mu}_{t})$\n",
    "    \\item $\\Sigma_{t} = (I-K_tH_t) \\overline{\\Sigma}_{t} = (I-K_t) \\overline{\\Sigma}_{t}$\n",
    "\\end{itemize}\n",
    "\n",
    "\n"
   ]
  },
  {
   "cell_type": "code",
   "execution_count": 432,
   "metadata": {
    "ExecuteTime": {
     "end_time": "2020-11-22T07:21:54.671033Z",
     "start_time": "2020-11-22T07:21:54.663834Z"
    }
   },
   "outputs": [],
   "source": [
    "import os\n",
    "import sys\n",
    "import time\n",
    "import serial\n",
    "import numpy as np\n",
    "import math\n",
    "import matplotlib.pyplot as plt\n",
    "\n",
    "from tqdm import tqdm\n",
    "\n",
    "Ts = 0.1\n",
    "\n",
    "# tune model params \n",
    "qx = 0.2\n",
    "qy = 0.2\n",
    "qt = 0.4\n",
    "k_delta_sr = 0.8\n",
    "k_delta_sl = 0.8\n",
    "\n",
    "\n",
    "b = 0.095\n",
    "H = np.array([[1, 0, 0], [0, 1, 0],[0, 0, 1]])\n",
    "stripe_width = 50\n",
    "Q = np.array([[qx, 0, 0], [0, qy, 0], [0, 0, qt]]);\n",
    "R = np.array([[k_delta_sr, 0], [0, k_delta_sl]]);"
   ]
  },
  {
   "cell_type": "code",
   "execution_count": 433,
   "metadata": {
    "ExecuteTime": {
     "end_time": "2020-11-22T07:21:55.328418Z",
     "start_time": "2020-11-22T07:21:55.316264Z"
    }
   },
   "outputs": [],
   "source": [
    "def jacobianF_x(theta, delta_s, delta_theta):\n",
    "    \n",
    "    Fx = np.array([[1, 0, -delta_s*np.sin(theta + delta_theta/2)], [0, 1, delta_s*np.cos(theta + delta_theta/2)], [0, 0, 1]])\n",
    "    return Fx\n",
    "\n",
    "def jacobianF_u(theta, delta_s, delta_theta):\n",
    "\n",
    "    Fu = np.array([[1/2*np.cos(theta + delta_theta/2) - delta_s/(2*b)*np.sin(theta + delta_theta/2), 1/2*np.cos(theta + delta_theta/2) + delta_s/(2*b)*np.sin(theta + delta_theta/2)], [1/2*np.sin(theta + delta_theta/2) + delta_s/(2*b)*np.cos(theta + delta_theta/2), 1/2*np.sin(theta + delta_theta/2) - delta_s/(2*b)*np.cos(theta + delta_theta/2)], [1/b , -1/b]])\n",
    "    return Fu\n",
    "\n",
    "def prediction_only(state_est_prev, cov_est_prev, delta_sr, delta_sl):\n",
    "    \"\"\"\n",
    "    Estimates the current state using only the previous state\n",
    "    \n",
    "    param delta_sr: travelled distance for the right wheel (in meters)\n",
    "    param delta_sl: travelled distance for the left wheel (in meters)\n",
    "    param state_est_prev: previous state a posteriori estimation\n",
    "    param cov_est_prev: previous state a posteriori covariance\n",
    "\n",
    "    return state_est_a_priori: new a priori state estimation\n",
    "    return cov_est: new a priori state covariance\n",
    "    \"\"\"\n",
    "    \n",
    "    theta = state_est_prev[2,0]\n",
    "    delta_s = (delta_sr + delta_sl)/2\n",
    "    delta_theta = (delta_sr - delta_sl)/b\n",
    "    \n",
    "    Fx = jacobianF_x(theta, delta_s, delta_theta)\n",
    "    Fu = jacobianF_u(theta, delta_s, delta_theta)\n",
    "    \n",
    "    ## Prediciton step\n",
    "    # estimated mean of the state\n",
    "    state_est_a_priori = state_est_prev + np.array([[delta_s*np.cos(theta + delta_theta/2)],[delta_s*np.sin(theta + delta_theta/2)],[delta_theta]])\n",
    "\n",
    "    \n",
    "    # Estimated covariance of the state\n",
    "    cov_est_a_priori = np.dot(Fx, np.dot(cov_est_prev, Fx.T)) + np.dot(Fu, np.dot(R, Fu.T))\n",
    "    \n",
    "    return state_est_a_priori, cov_est_a_priori\n"
   ]
  },
  {
   "cell_type": "markdown",
   "metadata": {},
   "source": [
    "\n",
    "\n",
    "## Prediction only \n",
    "\n",
    "In this part, we will demonstrate that if we use only the odometry data, the robot is very uncertain about his current position. (i.e huge covariance matrix)"
   ]
  },
  {
   "cell_type": "code",
   "execution_count": 434,
   "metadata": {
    "ExecuteTime": {
     "end_time": "2020-11-22T07:21:56.297573Z",
     "start_time": "2020-11-22T07:21:56.287112Z"
    }
   },
   "outputs": [
    {
     "name": "stderr",
     "output_type": "stream",
     "text": [
      "100%|██████████| 8/8 [00:00<00:00, 3829.54it/s]\n"
     ]
    }
   ],
   "source": [
    "state_pred = [np.array([[0], [0], [0]])]\n",
    "cov_pred = [0.01 * np.ones([3,3])]\n",
    "\n",
    "\n",
    "#delta_sl = [0.8, 0.8, 0.8, 0.8, 0.9, 0.9, 0.9, 0.009, 0.5, 0.5, 0.5, 0.2, 0.2, 0.2, 0.02, 0.01, 0.01, 0.3, 0.3, 0.3]\n",
    "#delta_sr = [0.8, 0.8, 0.8, 0.8, 0.8, 0.8, 0.8, 0, 0, 0.008, 0.008, 0.008, 0.008, 0.008, 0.008, 0.008, 0.008, 0.3, 0.3, 0.3]\n",
    "\n",
    "delta_sl = [0.8, 0.8, 0.8, 0.8, 0.83, 0.83, 0.83, 0.83]\n",
    "delta_sr = [0.8, 0.8, 0.8, 0.8, 0.8, 0.8, 0.8, 0.8]\n",
    "\n",
    "for i in tqdm(range(len(delta_sr))):\n",
    "    \n",
    "    new_state_pred, new_cov_pred = prediction_only(state_pred[-1], cov_pred[-1], delta_sr[i], delta_sl[i])\n",
    "        \n",
    "    state_pred.append(new_state_pred)\n",
    "    cov_pred.append(new_cov_pred)\n",
    "   \n"
   ]
  },
  {
   "cell_type": "code",
   "execution_count": 435,
   "metadata": {
    "ExecuteTime": {
     "end_time": "2020-11-22T07:21:56.761311Z",
     "start_time": "2020-11-22T07:21:56.750896Z"
    }
   },
   "outputs": [],
   "source": [
    "def plot_covariance_ellipse(state_est, cov_est):\n",
    "    \n",
    "    Pxy = cov_est[0:2, 0:2]\n",
    "    eigval, eigvec = np.linalg.eig(Pxy)\n",
    "\n",
    "    if eigval[0] >= eigval[1]:\n",
    "        bigind = 0\n",
    "        smallind = 1\n",
    "    else:\n",
    "        bigind = 1\n",
    "        smallind = 0\n",
    "\n",
    "    t = np.arange(0, 2 * math.pi + 0.1, 0.1)\n",
    "    a = math.sqrt(eigval[bigind])\n",
    "    b = math.sqrt(eigval[smallind])\n",
    "    x = [a * math.cos(it) for it in t]\n",
    "    y = [b * math.sin(it) for it in t]\n",
    "    \n",
    "    angle = math.atan2(eigvec[bigind, 1], eigvec[bigind, 0])\n",
    "    R = np.array([[math.cos(angle), math.sin(angle)],\n",
    "                  [-math.sin(angle), math.cos(angle)]])\n",
    "    fx = R.dot(np.array([[x, y]]))\n",
    "    px = np.array(fx[0, :] + state_est[0, 0]).flatten()\n",
    "    py = np.array(fx[1, :] + state_est[1, 0]).flatten()\n",
    "    \n",
    "    return px, py\n"
   ]
  },
  {
   "cell_type": "markdown",
   "metadata": {},
   "source": [
    "The following figure shows the robot path in blue and its position uncertainy is displayed in red."
   ]
  },
  {
   "cell_type": "code",
   "execution_count": 436,
   "metadata": {
    "ExecuteTime": {
     "end_time": "2020-11-22T07:21:58.081026Z",
     "start_time": "2020-11-22T07:21:57.866946Z"
    }
   },
   "outputs": [
    {
     "data": {
      "text/plain": [
       "<matplotlib.legend.Legend at 0x7fb8e14e33d0>"
      ]
     },
     "execution_count": 436,
     "metadata": {},
     "output_type": "execute_result"
    },
    {
     "data": {
      "image/png": "[encoded data removed]",
      "text/plain": [
       "<Figure size 432x288 with 1 Axes>"
      ]
     },
     "metadata": {
      "needs_background": "light"
     },
     "output_type": "display_data"
    }
   ],
   "source": [
    "#only prediction\n",
    "#robot path in blue and its position uncertainy is displayed in red\n",
    "plt.plot([x[0][0] for x in state_pred], [x[1][0] for x in state_pred], \"--r\", color='lightblue', label=\"path\")\n",
    "\n",
    "for i in range(len(delta_sr)):\n",
    "    px, py = plot_covariance_ellipse(state_pred[i], cov_pred[i]/1000)\n",
    "    if i == 0:\n",
    "        plt.plot(px, py, \"--r\", label=\"covariance matrix\")\n",
    "    plt.plot(px, py, \"--r\")\n",
    "\n",
    "plt.xlabel(\"Position x\")\n",
    "plt.ylabel(\"Position y\")\n",
    "plt.legend()"
   ]
  },
  {
   "cell_type": "code",
   "execution_count": 437,
   "metadata": {
    "ExecuteTime": {
     "end_time": "2020-11-22T07:21:59.032726Z",
     "start_time": "2020-11-22T07:21:58.683796Z"
    }
   },
   "outputs": [
    {
     "data": {
      "text/plain": [
       "<matplotlib.legend.Legend at 0x7fb8e169ddd0>"
      ]
     },
     "execution_count": 437,
     "metadata": {},
     "output_type": "execute_result"
    },
    {
     "data": {
      "image/png": "[encoded data removed]",
      "text/plain": [
       "<Figure size 432x288 with 1 Axes>"
      ]
     },
     "metadata": {
      "needs_background": "light"
     },
     "output_type": "display_data"
    }
   ],
   "source": [
    "# evolution of the angle \n",
    "plt.plot([x[2]%(2*np.pi) for x in state_pred], \"--r\", color='lightblue', label=\"orientation\")\n",
    "plt.xlabel(\"Time step\")\n",
    "plt.ylabel(\"Thymio's angle\")\n",
    "plt.legend()"
   ]
  },
  {
   "cell_type": "markdown",
   "metadata": {},
   "source": [
    "### Integrating the measurement \n",
    "\n",
    "In this part we will see the effect of integrating a measurement coming from the camera on Thymio's knowledge of his localization."
   ]
  },
  {
   "cell_type": "code",
   "execution_count": 441,
   "metadata": {
    "ExecuteTime": {
     "end_time": "2020-11-22T07:22:25.577353Z",
     "start_time": "2020-11-22T07:22:25.567963Z"
    }
   },
   "outputs": [],
   "source": [
    "def kalman_filter(i, z, state_est_prev, cov_est_prev, delta_sr, delta_sl):\n",
    "    \"\"\"\n",
    "    Estimates the current state using input sensor data and the previous state\n",
    "    \n",
    "    param z: array representing the measurement (x,y,theta) (coming from the vision sensor)\n",
    "    param delta_sr: travelled distance for the right wheel (in meters)\n",
    "    param delta_sl: travelled distance for the left wheel (in meters)\n",
    "    param state_est_prev: previous state a posteriori estimation\n",
    "    param cov_est_prev: previous state a posteriori covariance\n",
    "\n",
    "    return state_est: new a posteriori state estimation\n",
    "    return cov_est: new a posteriori state covariance\n",
    "    \"\"\"\n",
    "    \n",
    "    theta = state_est_prev[2,0]\n",
    "    delta_s = (delta_sr + delta_sl)/2\n",
    "    delta_theta = (delta_sr - delta_sl)/b\n",
    "    \n",
    "    Fx = jacobianF_x(theta, delta_s, delta_theta)\n",
    "    Fu = jacobianF_u(theta, delta_s, delta_theta)\n",
    "    \n",
    "    ## Prediciton step\n",
    "    # estimated mean of the state\n",
    "    state_est_a_priori = state_est_prev + np.array([[delta_s*np.cos(theta + delta_theta/2)],[delta_s*np.sin(theta + delta_theta/2)],[delta_theta]])\n",
    "\n",
    "    \n",
    "    # Estimated covariance of the state\n",
    "    cov_est_a_priori = np.dot(Fx, np.dot(cov_est_prev, Fx.T)) + np.dot(Fu, np.dot(R, Fu.T))\n",
    "    \n",
    "    if i == 2 or i == 4:\n",
    "        ## Update step\n",
    "        # innovation / measurement residual\n",
    "        i = z - state_est_a_priori;\n",
    "\n",
    "        # Kalman gain (tells how much the predictions should be corrected based on the measurements)\n",
    "        K = np.dot(cov_est_a_priori, np.linalg.inv(cov_est_a_priori + Q));\n",
    "    \n",
    "        # a posteriori estimate\n",
    "        state_est = state_est_a_priori + np.dot(K,i);\n",
    "        cov_est = cov_est_a_priori - np.dot(K,cov_est_a_priori);\n",
    " \n",
    "    else:\n",
    "        state_est = state_est_a_priori\n",
    "        cov_est = cov_est_a_priori\n",
    "            \n",
    "    return state_est, cov_est\n",
    "   "
   ]
  },
  {
   "cell_type": "code",
   "execution_count": 442,
   "metadata": {
    "ExecuteTime": {
     "end_time": "2020-11-22T07:22:26.139631Z",
     "start_time": "2020-11-22T07:22:26.125430Z"
    }
   },
   "outputs": [
    {
     "name": "stderr",
     "output_type": "stream",
     "text": [
      "100%|██████████| 8/8 [00:00<00:00, 4179.68it/s]\n"
     ]
    }
   ],
   "source": [
    "state_est = [np.array([[0], [0], [0]])]\n",
    "cov_est = [0.01 * np.ones([3,3])]\n",
    "\n",
    "\n",
    "delta_sl = [0.8, 0.8, 0.8, 0.8, 0.83, 0.83, 0.83, 0.83]\n",
    "delta_sr = [0.8, 0.8, 0.8, 0.8, 0.8, 0.8, 0.8, 0.8]\n",
    "\n",
    "# virtual measurements \n",
    "z1 = np.array([[2.5], [0.1], [0.01]]) # true position is (2.4, 0, 0)         // i == 2\n",
    "z2 = np.array([[4], [-0.14], [-0.33]])  # true position is (4, -0.12, -0.32)   // i == 4\n",
    "z3 = np.array([[5.2], [-1.1], [-0.9]])  # true position is (5.3, -1.07, -0.95) // i == 6\n",
    "\n",
    "z = [z1, z2, z3]\n",
    "\n",
    "meas = 0\n",
    "for i in tqdm(range(len(delta_sr))):\n",
    "\n",
    "    if i == 2:\n",
    "        meas = 0\n",
    "        \n",
    "    if i == 4:\n",
    "        meas = 1\n",
    "    \n",
    "    #if i == 6:\n",
    "        #meas = 2\n",
    "    \n",
    "    new_state_est, new_cov_est = kalman_filter(i, z[meas], state_est[-1], cov_est[-1], delta_sr[i], delta_sl[i])\n",
    "    \n",
    "    \n",
    "    state_est.append(new_state_est)\n",
    "    cov_est.append(new_cov_est)"
   ]
  },
  {
   "cell_type": "code",
   "execution_count": 443,
   "metadata": {
    "ExecuteTime": {
     "end_time": "2020-11-22T07:22:27.863455Z",
     "start_time": "2020-11-22T07:22:27.670748Z"
    }
   },
   "outputs": [
    {
     "data": {
      "text/plain": [
       "<matplotlib.legend.Legend at 0x7fb8e183ac50>"
      ]
     },
     "execution_count": 443,
     "metadata": {},
     "output_type": "execute_result"
    },
    {
     "data": {
      "image/png": "[encoded data removed]",
      "text/plain": [
       "<Figure size 432x288 with 1 Axes>"
      ]
     },
     "metadata": {
      "needs_background": "light"
     },
     "output_type": "display_data"
    }
   ],
   "source": [
    "# prediction + 1 update\n",
    "#robot path in blue and its position uncertainy is displayed in red\n",
    "plt.plot([x[0][0] for x in state_est], [x[1][0] for x in state_est], \"--r\", color='lightblue', label=\"path\")\n",
    "\n",
    "for i in range(len(delta_sr)):\n",
    "    px, py = plot_covariance_ellipse(state_est[i], cov_est[i]/1000)\n",
    "    if i == 0:\n",
    "        plt.plot(px, py, \"--r\", label=\"covariance matrix\")\n",
    "    plt.plot(px, py, \"--r\")\n",
    "\n",
    "plt.xlabel(\"Position x\")\n",
    "plt.ylabel(\"Position y\")\n",
    "plt.legend()"
   ]
  },
  {
   "cell_type": "code",
   "execution_count": null,
   "metadata": {},
   "outputs": [],
   "source": []
  }
 ],
 "metadata": {
  "hide_input": false,
  "kernelspec": {
   "display_name": "Python 3",
   "language": "python",
   "name": "python3"
  },
  "language_info": {
   "codemirror_mode": {
    "name": "ipython",
    "version": 3
   },
   "file_extension": ".py",
   "mimetype": "text/x-python",
   "name": "python",
   "nbconvert_exporter": "python",
   "pygments_lexer": "ipython3",
   "version": "3.7.4"
  },
  "latex_envs": {
   "LaTeX_envs_menu_present": true,
   "autoclose": false,
   "autocomplete": true,
   "bibliofile": "biblio.bib",
   "cite_by": "apalike",
   "current_citInitial": 1,
   "eqLabelWithNumbers": true,
   "eqNumInitial": 1,
   "hotkeys": {
    "equation": "Ctrl-E",
    "itemize": "Ctrl-I"
   },
   "labels_anchors": false,
   "latex_user_defs": false,
   "report_style_numbering": false,
   "user_envs_cfg": false
  },
  "toc": {
   "base_numbering": 1,
   "nav_menu": {},
   "number_sections": true,
   "sideBar": true,
   "skip_h1_title": false,
   "title_cell": "Table of Contents",
   "title_sidebar": "Contents",
   "toc_cell": false,
   "toc_position": {},
   "toc_section_display": true,
   "toc_window_display": false
  }
 },
 "nbformat": 4,
 "nbformat_minor": 2
}
