{
 "cells": [
  {
   "cell_type": "markdown",
   "metadata": {},
   "source": [
    "#  Imports\n",
    "Let's start by importing the libraries we will need for this project. "
   ]
  },
  {
   "cell_type": "code",
   "execution_count": 103,
   "metadata": {
    "ExecuteTime": {
     "end_time": "2020-11-17T08:26:48.752518Z",
     "start_time": "2020-11-17T08:26:48.745576Z"
    }
   },
   "outputs": [],
   "source": [
    "import math\n",
    "import numpy as np\n",
    "import matplotlib.pyplot as plt\n",
    "from matplotlib import colors\n",
    "\n",
    "%matplotlib inline\n",
    "\n",
    "#constants\n",
    "LOCALIZATION = 0\n",
    "OCCUPANCY = 1\n",
    "FREE = 0\n",
    "OCCUPIED = 1"
   ]
  },
  {
   "cell_type": "markdown",
   "metadata": {},
   "source": [
    "# Map initialisation \n",
    "This is the map on which we apply the path planning algorithm. \n",
    "- The map has a size 45 (along the y axis) x 42 cells (along the x axis) \n",
    "- The location of the obstacles vary and is obtained through the vision step \n",
    "- An occupied cell has a value 1\n",
    "- An free cell has a value 0"
   ]
  },
  {
   "cell_type": "code",
   "execution_count": 104,
   "metadata": {
    "ExecuteTime": {
     "end_time": "2020-11-17T08:26:49.816985Z",
     "start_time": "2020-11-17T08:26:49.800393Z"
    }
   },
   "outputs": [],
   "source": [
    "def display_map(grid, type_map):\n",
    "    \"\"\"\n",
    "    Display a map (either localization grid or occupancy grid)\n",
    "    \n",
    "    :param grid: 2D matrix containing the values of each cell in the map \n",
    "    :param type_map: specify the type of map  and can take 2 values (LOCALIZATION or OCCUPANCY)\n",
    "    \n",
    "    :return: the fig and ax objects.\n",
    "    \"\"\"\n",
    "    fig, ax = plt.subplots(figsize=(7,7))\n",
    "    \n",
    "    major_ticks_x = np.arange(0, 42+1, 5)\n",
    "    minor_ticks_x = np.arange(0, 42+1, 1)\n",
    "    major_ticks_y = np.arange(0, 45+1, 5)\n",
    "    minor_ticks_y = np.arange(0, 45+1, 1)\n",
    "    ax.set_xticks(major_ticks_x)\n",
    "    ax.set_xticks(minor_ticks_x, minor=True)\n",
    "    ax.set_yticks(major_ticks_y)\n",
    "    ax.set_yticks(minor_ticks_y, minor=True)\n",
    "    ax.grid(which='minor', alpha=0.2)\n",
    "    ax.grid(which='major', alpha=0.5)\n",
    "    ax.set_ylim([0,45])\n",
    "    ax.set_xlim([0,42])\n",
    "    ax.grid(True)\n",
    "    \n",
    "    \n",
    "    if type_map == OCCUPANCY:\n",
    "        # Select the colors with which to display obstacles and free cells\n",
    "        cmap = colors.ListedColormap(['white', 'red'])\n",
    "        \n",
    "        # Displaying the map\n",
    "        # ax.imshow(grid, cmap=cmap, extent=[0, 42, 0, 45])\n",
    "        ax.imshow(grid, cmap=cmap)\n",
    "        plt.title(\"Map : free cells in white, occupied cells in red\");\n",
    "    \n",
    "    elif type_map == LOCALIZATION:\n",
    "        cmap = colors.ListedColormap(['white', 'black'])\n",
    "        \n",
    "        # Displaying the map\n",
    "        ax.imshow(grid, cmap=cmap, extent=[0, 42, 0, 45])\n",
    "        plt.title(\"Localization grid\");\n",
    "        \n",
    "    return fig,ax\n",
    "\n",
    "\n",
    "def create_occupancy_grid():\n",
    "    \"\"\"\n",
    "    Create the occupancy grid\n",
    "    \n",
    "    return: A 2D matrix filled with 0's (free cells) and 1's (occupied cells) representing the occupancy map\n",
    "    \"\"\"\n",
    "    occupancy_grid = np.zeros((42, 45))\n",
    "    \n",
    "    # obstacle 1\n",
    "    occupancy_grid[14:16,40:45] = OCCUPIED\n",
    "    \n",
    "    # obstacle 2\n",
    "    occupancy_grid[0:9,18] = OCCUPIED\n",
    "    occupancy_grid[4:8,19] = OCCUPIED\n",
    "    occupancy_grid[4:7,20] = OCCUPIED\n",
    "    occupancy_grid[4:6,21] = OCCUPIED\n",
    "    occupancy_grid[4,22] = OCCUPIED\n",
    "    \n",
    "    # obstacle 3\n",
    "    occupancy_grid[34:,29] = OCCUPIED\n",
    "    \n",
    "    # obstacle 4\n",
    "    occupancy_grid[21:26,9:14] = OCCUPIED\n",
    "\n",
    "    return occupancy_grid"
   ]
  },
  {
   "cell_type": "code",
   "execution_count": 105,
   "metadata": {
    "ExecuteTime": {
     "end_time": "2020-11-17T08:26:50.737238Z",
     "start_time": "2020-11-17T08:26:50.281763Z"
    }
   },
   "outputs": [
    {
     "data": {
      "image/png": "[encoded data removed]",
      "text/plain": [
       "<Figure size 504x504 with 1 Axes>"
      ]
     },
     "metadata": {
      "needs_background": "light"
     },
     "output_type": "display_data"
    }
   ],
   "source": [
    "occupancy_grid = create_occupancy_grid()\n",
    "fig, ax = display_map(occupancy_grid.transpose(), OCCUPANCY)"
   ]
  },
  {
   "cell_type": "markdown",
   "metadata": {},
   "source": [
    "# Localization cell grid \n",
    "This is the grid that helps Thymio to localize itself. \n",
    "- The map has a size 45 (along the y axis) x 42 cells (along the x axis) \n",
    "- A black cell has a value 1\n",
    "- A white cell has a value 0"
   ]
  },
  {
   "cell_type": "code",
   "execution_count": 106,
   "metadata": {
    "ExecuteTime": {
     "end_time": "2020-11-17T08:26:51.848262Z",
     "start_time": "2020-11-17T08:26:51.767828Z"
    }
   },
   "outputs": [],
   "source": [
    "def create_localization_grid():\n",
    "    \"\"\"\n",
    "    Create the localization grid, that will help Thymio to localize itself \n",
    "    \n",
    "    return: A 2D matrix filled with 0's (white cells) and 1's (black cells) representing the localization map\n",
    "    \"\"\"\n",
    "    localization_grid = np.zeros((45, 42))\n",
    "    \n",
    "    localization_grid[0,:]  = [1,0,0,0,1,1,0,0,1,0, 1,1,1,1,1,1,0,0,1,1,0, 1,0,1,0,1,1,0,1,1,0,1, 0,0,1,0,0,1,0,0,0,0]\n",
    "    localization_grid[1,:]  = [0,1,0,1,0,0,1,1,1,1, 1,1,1,0,0,1,1,1,1,1,1, 1,1,1,1,1,1,1,1,1,1,1, 0,1,1,1,1,1,0,0,1,1]\n",
    "    localization_grid[2,:]  = [0,1,1,1,0,1,0,1,1,1, 1,0,0,1,1,0,0,1,1,0,1, 0,1,0,0,1,0,0,0,0,0,1, 0,1,0,1,1,1,1,1,1,0]\n",
    "    localization_grid[3,:]  = [1,1,0,0,0,1,1,0,0,0, 1,0,0,1,0,1,0,1,0,1,1, 0,0,1,0,1,0,0,1,1,0,0, 0,0,0,1,1,1,1,1,1,1]\n",
    "    localization_grid[4,:]  = [1,1,1,0,0,1,0,0,0,1, 1,0,0,0,0,0,1,0,1,1,1, 1,0,1,1,1,0,1,0,1,1,1, 1,0,0,0,1,1,0,1,1,1]\n",
    "    localization_grid[5,:]  = [1,0,1,1,0,1,0,1,0,1, 1,1,0,1,1,0,1,0,1,1,1, 1,1,0,1,1,0,1,1,0,0,1, 0,1,0,0,0,1,0,1,0,0]\n",
    "    localization_grid[6,:]  = [0,1,0,1,1,1,0,0,0,0, 1,0,1,1,0,0,1,1,0,1,1, 0,1,0,0,1,0,0,0,0,0,1, 0,0,0,1,1,0,0,0,0,0]\n",
    "    localization_grid[7,:]  = [0,1,0,1,1,1,0,0,0,0, 1,1,0,1,0,1,1,1,0,0,0, 1,0,0,0,0,0,0,0,0,1,1, 0,0,0,1,1,0,0,1,1,1]\n",
    "    localization_grid[8,:]  = [0,1,1,0,1,0,0,1,1,1, 1,0,0,1,0,1,0,1,1,1,1, 1,1,0,1,0,1,1,0,0,0,1, 1,0,1,0,0,0,1,1,0,0]\n",
    "    localization_grid[9,:]  = [0,1,0,0,1,1,1,1,0,1, 0,1,1,0,0,1,1,1,1,0,1, 0,1,1,1,1,0,1,0,1,0,1, 1,0,0,1,0,1,1,0,0,1]\n",
    "    localization_grid[10,:] = [1,1,1,1,1,1,0,1,0,0, 1,0,0,1,0,1,1,0,0,1,1, 0,0,1,1,0,0,0,0,0,1,1, 0,0,1,1,1,1,1,0,0,0]\n",
    "    localization_grid[11,:] = [0,1,1,1,0,0,0,1,1,0, 0,0,1,1,1,1,0,0,0,1,0, 1,0,0,1,1,1,1,0,1,0,0, 1,1,1,0,1,1,0,0,1,0]\n",
    "    localization_grid[12,:] = [1,1,0,1,1,1,0,0,0,0, 0,1,0,0,1,0,0,1,1,1,1, 0,0,1,0,1,0,0,1,0,1,1, 0,0,1,0,0,1,1,0,1,0]\n",
    "    localization_grid[13,:] = [0,0,0,1,1,0,1,1,0,0, 1,1,1,1,1,0,0,1,0,1,1, 1,1,1,0,1,1,0,0,1,0,1, 1,1,0,1,1,1,0,0,1,1]\n",
    "    localization_grid[14,:] = [1,1,1,1,0,1,1,1,1,0, 1,0,1,0,1,1,0,0,1,1,0, 1,0,0,0,0,0,1,1,0,1,0, 0,0,0,0,1,0,0,1,0,0]\n",
    "    \n",
    "    localization_grid[15,:] = [0,1,0,0,0,1,0,1,0,1, 1,1,0,1,1,1,0,1,1,0,0, 0,0,0,1,1,1,1,1,1,1,0, 0,1,1,1,0,1,1,0,1,1]\n",
    "    localization_grid[16,:] = [1,1,1,1,1,1,1,0,0,0, 1,0,1,0,1,1,0,0,0,1,0, 0,0,1,0,0,0,1,1,1,0,1, 1,0,1,0,0,1,0,1,1,1]\n",
    "    localization_grid[17,:] = [1,1,0,0,0,1,1,1,1,1, 0,1,1,1,0,1,0,0,1,0,0, 1,0,0,1,1,0,0,1,0,0,0, 0,1,1,0,1,1,1,0,1,0]\n",
    "    localization_grid[18,:] = [0,1,1,1,1,0,0,0,1,0, 0,1,1,1,1,0,1,0,1,1,1, 1,0,0,0,0,1,1,1,0,1,0, 0,0,0,1,1,1,1,1,0,1]\n",
    "    localization_grid[19,:] = [0,0,1,0,1,1,0,1,1,0, 1,1,1,1,1,1,1,0,0,1,1, 0,0,1,0,0,0,1,0,1,1,0, 1,1,0,0,0,1,1,0,1,1]\n",
    "    localization_grid[20,:] = [1,1,1,0,0,0,0,0,1,1, 1,1,1,1,1,1,0,1,0,0,0, 0,0,0,0,1,1,1,0,1,1,1, 0,1,0,1,1,1,1,1,1,0]\n",
    "    localization_grid[21,:] = [0,0,1,0,0,0,1,1,1,0, 0,1,0,0,0,1,1,1,1,0,1, 1,0,0,0,1,0,1,1,1,0,0, 0,0,1,1,0,0,0,1,0,1]\n",
    "    localization_grid[22,:] = [1,1,0,1,0,0,1,1,1,0, 1,1,0,1,0,1,0,1,0,0,1, 1,0,1,1,1,1,0,1,0,1,1, 0,0,1,1,0,1,0,1,1,0]\n",
    "    localization_grid[23,:] = [0,1,0,1,0,1,1,1,0,1, 0,1,0,0,0,1,0,1,0,0,0, 0,0,1,0,1,1,0,0,1,0,1, 1,0,0,1,0,0,0,1,1,0]\n",
    "    localization_grid[24,:] = [1,1,0,1,0,0,0,1,0,0, 1,1,1,1,1,1,0,1,1,1,1, 1,0,1,0,1,0,0,1,0,1,1, 0,0,0,1,1,1,1,1,1,1]\n",
    "    localization_grid[25,:] = [0,0,0,1,0,1,1,0,0,0, 1,1,1,0,0,1,1,1,1,0,1, 1,1,1,0,1,1,1,1,1,1,1, 0,1,0,1,1,1,1,1,0,0]\n",
    "    localization_grid[26,:] = [0,0,0,1,1,0,1,0,1,1, 1,1,0,0,0,0,1,1,0,0,0, 0,1,1,0,0,0,0,0,0,0,0, 0,0,0,1,1,1,1,0,1,0]\n",
    "    localization_grid[27,:] = [1,1,0,0,1,1,0,0,0,0, 1,1,1,0,0,0,1,0,1,0,1, 1,0,1,1,0,0,0,1,0,1,0, 1,1,0,0,0,0,0,0,1,1]\n",
    "    localization_grid[28,:] = [0,1,0,0,1,1,1,0,1,1, 1,1,0,0,1,1,1,0,1,1,1, 0,0,1,1,0,0,1,0,1,0,1, 1,0,1,1,0,0,1,1,1,0]\n",
    "    localization_grid[29,:] = [0,0,1,1,1,1,1,1,1,0, 1,1,0,1,0,0,1,1,1,1,0, 1,0,1,1,1,0,0,0,0,1,0, 0,1,1,1,0,0,0,1,1,0]\n",
    "    localization_grid[30,:] = [1,0,0,0,1,1,0,1,1,0, 1,0,1,0,1,1,1,0,1,1,0, 1,0,1,1,1,0,1,1,1,0,1, 1,1,0,1,0,1,1,0,0,0]\n",
    "    \n",
    "    localization_grid[31,:] = [0,0,0,0,0,1,0,1,1,1, 0,0,0,0,0,1,0,1,1,0,1, 1,0,0,0,1,0,0,0,1,0,0, 0,1,1,0,1,0,1,1,1,1]\n",
    "    localization_grid[32,:] = [0,0,1,1,1,0,0,0,0,1, 1,0,0,1,0,1,1,0,0,1,1, 1,0,0,0,1,1,1,0,0,0,1, 1,0,1,1,0,1,1,0,1,0]\n",
    "    localization_grid[33,:] = [1,1,0,0,1,0,0,1,1,0, 0,1,1,0,1,1,1,1,0,0,1, 0,1,0,0,1,1,1,1,1,0,1, 1,0,0,1,0,1,0,0,1,0]\n",
    "    localization_grid[34,:] = [1,1,0,1,1,1,0,0,0,1, 1,0,0,1,0,0,0,1,1,1,0, 0,0,1,0,0,1,1,0,0,1,0, 0,1,0,1,0,1,1,0,1,0]\n",
    "    localization_grid[35,:] = [0,0,1,1,1,1,1,0,1,1, 0,1,1,1,0,1,0,0,1,1,1, 1,1,0,1,0,1,1,1,0,1,0, 1,1,1,1,1,0,1,0,1,0]\n",
    "    localization_grid[36,:] = [0,1,0,1,0,1,1,1,0,0, 0,1,1,1,0,0,0,0,0,1,0, 0,0,1,1,0,1,0,0,1,0,1, 1,1,1,1,1,1,0,1,1,1]\n",
    "    localization_grid[37,:] = [1,0,1,1,0,0,1,1,0,1, 0,0,0,0,0,1,1,1,1,1,0, 1,0,0,1,1,1,1,1,1,0,1, 0,1,1,0,0,0,0,1,0,0]\n",
    "    localization_grid[38,:] = [0,1,1,0,1,0,1,0,0,1, 0,0,1,1,0,1,0,0,1,1,1, 1,1,1,1,1,1,0,0,1,0,1, 1,0,1,1,0,1,0,0,0,0]\n",
    "    localization_grid[39,:] = [0,1,1,1,1,1,1,1,1,1, 1,0,0,0,1,1,1,0,1,0,1, 0,0,0,1,1,0,1,1,1,1,1, 0,0,1,1,1,1,1,1,1,1]\n",
    "    localization_grid[40,:] = [0,1,0,0,1,1,0,1,0,1, 0,1,0,1,1,0,1,0,0,1,1, 1,0,1,0,0,0,1,1,0,0,1, 1,1,1,1,1,1,1,0,0,1]\n",
    "    localization_grid[41,:] = [1,0,1,1,1,0,0,1,0,0, 1,1,0,0,0,0,1,0,0,1,1, 1,1,1,0,1,1,1,1,0,1,1, 0,1,0,0,0,1,0,1,0,0]\n",
    "    localization_grid[42,:] = [0,1,0,0,1,1,1,1,1,0, 1,0,0,1,1,1,1,0,0,1,1, 1,0,0,0,0,0,0,1,0,1,0, 0,0,1,1,0,1,1,1,0,1]\n",
    "    localization_grid[43,:] = [1,1,1,1,0,1,0,1,0,1, 0,1,1,1,0,1,0,1,0,1,0, 1,1,1,1,1,0,1,0,0,0,0, 1,1,0,0,1,0,0,1,1,1]\n",
    "    localization_grid[44,:] = [0,1,1,0,1,0,1,0,1,1, 0,1,1,1,1,1,0,0,0,1,0, 0,0,0,1,0,1,1,1,1,0,1, 0,1,1,1,1,1,1,1,0,1]\n",
    "    \n",
    "    return localization_grid"
   ]
  },
  {
   "cell_type": "code",
   "execution_count": 107,
   "metadata": {
    "ExecuteTime": {
     "end_time": "2020-11-17T08:26:52.756008Z",
     "start_time": "2020-11-17T08:26:52.372051Z"
    }
   },
   "outputs": [
    {
     "data": {
      "text/plain": [
       "(<Figure size 504x504 with 1 Axes>,\n",
       " <matplotlib.axes._subplots.AxesSubplot at 0x7fa2d06f9650>)"
      ]
     },
     "execution_count": 107,
     "metadata": {},
     "output_type": "execute_result"
    },
    {
     "data": {
      "image/png": "[encoded data removed]",
      "text/plain": [
       "<Figure size 504x504 with 1 Axes>"
      ]
     },
     "metadata": {
      "needs_background": "light"
     },
     "output_type": "display_data"
    }
   ],
   "source": [
    "localization_grid = create_localization_grid()\n",
    "display_map(localization_grid, LOCALIZATION)"
   ]
  },
  {
   "cell_type": "markdown",
   "metadata": {},
   "source": [
    "# Global path planning\n",
    "We decided tu use the A* algorithm to find the optimal path to the goal, because if $h(n)$ is a consistent heuristic, then A* is optimally efficient among all optimal search algorithms using $h(n)$. Indeed, no other optimal algorithm using $h(n)$ is guaranteed to expand fewer nodes than A*.\n",
    "\n",
    "The A* algorithm expandes the node n with the smallest $f(n) = g(n) + h(n)$, where $g(n)$ denotes the cheapest path cost from the starting node and $h(n)$ the heuristic function.\n",
    "\n",
    "$h(n)$ is consistent if the $f(n)$ costs are non-decreasing : $f(n_j)\\geq f(n_i) $ (going from a node i to a node j). The heuristic function has been chosen h(n) as the estimation of the cost to reach goal from node n. This specific heuristic function is consistant, because $h(n_i)\\geq cost(n_i, n_j)+h(n_j)$, hence A* is optimally efficient. \n",
    "\n",
    "First of all, in order to consider the robot as a point in the path planning algorithm, we need to increase the size of the obstacles by the radius of the robot."
   ]
  },
  {
   "cell_type": "code",
   "execution_count": 128,
   "metadata": {
    "ExecuteTime": {
     "end_time": "2020-11-17T08:34:12.000468Z",
     "start_time": "2020-11-17T08:34:11.994033Z"
    }
   },
   "outputs": [],
   "source": [
    "def increased_obstacles_map(occupancy_grid):\n",
    "    \n",
    "    nb_rows = len(occupancy_grid)\n",
    "    nb_cols = len(occupancy_grid[0])\n",
    "    increased_occupancy_grid = np.zeros([nb_rows+6, nb_cols+6])\n",
    "    \n",
    "    for i in range(len(occupancy_grid)):\n",
    "        for j in range(len(occupancy_grid[0])):\n",
    "            \n",
    "            if occupancy_grid[i,j] == OCCUPIED:\n",
    "                increased_occupancy_grid[i:i+7,j:j+7] = np.ones([7,7])\n",
    "                \n",
    "    \n",
    "    final_occupancy_grid = increased_occupancy_grid[3:48,3:45]\n",
    "    return final_occupancy_grid"
   ]
  },
  {
   "cell_type": "code",
   "execution_count": 129,
   "metadata": {
    "ExecuteTime": {
     "end_time": "2020-11-17T08:34:13.295165Z",
     "start_time": "2020-11-17T08:34:12.524790Z"
    }
   },
   "outputs": [
    {
     "data": {
      "text/plain": [
       "(<Figure size 504x504 with 1 Axes>,\n",
       " <matplotlib.axes._subplots.AxesSubplot at 0x7fa2d048efd0>)"
      ]
     },
     "execution_count": 129,
     "metadata": {},
     "output_type": "execute_result"
    },
    {
     "data": {
      "image/png": "[encoded data removed]",
      "text/plain": [
       "<Figure size 504x504 with 1 Axes>"
      ]
     },
     "metadata": {
      "needs_background": "light"
     },
     "output_type": "display_data"
    },
    {
     "data": {
      "image/png": "[encoded data removed]",
      "text/plain": [
       "<Figure size 504x504 with 1 Axes>"
      ]
     },
     "metadata": {
      "needs_background": "light"
     },
     "output_type": "display_data"
    }
   ],
   "source": [
    "final_occupancy_grid = increased_obstacles_map(occupancy_grid)\n",
    "display_map(occupancy_grid.transpose(), OCCUPANCY)\n",
    "display_map(final_occupancy_grid.transpose(), OCCUPANCY)"
   ]
  },
  {
   "cell_type": "markdown",
   "metadata": {},
   "source": [
    "## A* algorithm\n",
    "The following function provides the list of all possible movements (knowing that we allow Thymio to move diagonally in the grid)"
   ]
  },
  {
   "cell_type": "code",
   "execution_count": 130,
   "metadata": {
    "ExecuteTime": {
     "end_time": "2020-11-17T08:34:15.290080Z",
     "start_time": "2020-11-17T08:34:15.283316Z"
    }
   },
   "outputs": [],
   "source": [
    "def _get_movements_8n():\n",
    "    \"\"\"\n",
    "    Get all possible 8-connectivity movements.\n",
    "    - up \n",
    "    - down \n",
    "    - left\n",
    "    - right \n",
    "    - first diagonal (up-right)\n",
    "    - second diagonal (up-left)\n",
    "    - third diagonal (down-right)\n",
    "    - fourth diagonal (down-left)\n",
    "    :return: list of movements with cost [(dx, dy, movement_cost)]\n",
    "    \"\"\"\n",
    "    s2 = math.sqrt(2)\n",
    "    return [(1, 0, 1.0),\n",
    "            (0, 1, 1.0),\n",
    "            (-1, 0, 1.0),\n",
    "            (0, -1, 1.0),\n",
    "            (1, 1, s2),\n",
    "            (-1, 1, s2),\n",
    "            (-1, -1, s2),\n",
    "            (1, -1, s2)]"
   ]
  },
  {
   "cell_type": "markdown",
   "metadata": {},
   "source": [
    "Here is the implementation of the A* algorithm:"
   ]
  },
  {
   "cell_type": "code",
   "execution_count": 131,
   "metadata": {
    "ExecuteTime": {
     "end_time": "2020-11-17T08:34:20.565902Z",
     "start_time": "2020-11-17T08:34:20.543310Z"
    }
   },
   "outputs": [],
   "source": [
    "###\n",
    "#\n",
    "# LIGNES DE COMMENTAIRES A ENLEVER !!!!\n",
    "###\n",
    "#\n",
    "\n",
    "def reconstruct_path(cameFrom, current):\n",
    "    \"\"\"\n",
    "    Recurrently reconstructs the path from start node to the current node\n",
    "    :param cameFrom: map (dictionary) containing for each node n the node immediately \n",
    "                     preceding it on the cheapest path from start to n \n",
    "                     currently known.\n",
    "    :param current: current node (x, y)\n",
    "    :return: list of nodes from start to current node\n",
    "    \"\"\"\n",
    "    total_path = [current]\n",
    "    while current in cameFrom.keys():\n",
    "        # Add where the current node came from to the start of the list (add cameFrom[current] at the 0th index)\n",
    "        total_path.insert(0, cameFrom[current]) \n",
    "        current=cameFrom[current]\n",
    "    return total_path\n",
    "\n",
    "def A_Star(start, goal, final_occupancy_grid):\n",
    "    \"\"\"\n",
    "    Execution of the A* algorithm for 2D occupancy grid. Finds a path from start to goal.\n",
    "    h is the heuristic function. h(n) estimates the cost to reach goal from node n.\n",
    "    :param start: start node (x, y)\n",
    "    :param goal: goal node (x, y)\n",
    "    :param occupancy_grid: the grid map\n",
    "    :return: a tuple that contains: (the resulting path in meters, the resulting path in data array indices)\n",
    "    \"\"\"\n",
    "    x,y = np.mgrid[0:45:1, 0:42:1]\n",
    "    pos = np.empty(x.shape + (2,))\n",
    "    # x.shape = (45,42)\n",
    "    # x.shape + (2,) = (45,42,2)\n",
    "    pos[:, :, 0] = x; pos[:, :, 1] = y\n",
    "    # pos.shape = (1890, 2)\n",
    "    pos = np.reshape(pos, (x.shape[0]*x.shape[1], 2))\n",
    "    coords = list([(int(x[0]), int(x[1])) for x in pos])\n",
    "\n",
    "    # Define the heuristic: \n",
    "    # h: dictionary containing the distance to goal ignoring obstacles for all coordinates in the grid (heuristic function)\n",
    "    h = np.linalg.norm(pos - goal, axis = 1)\n",
    "    # If axis is an integer, it specifies the axis of x along which to compute the vector norms\n",
    "    # axis = 1: h.shape  = 1890\n",
    "    # axis = 0: h.shape  = 2\n",
    "    h = dict(zip(coords, h))\n",
    "    \n",
    "    \n",
    "    \n",
    "    # Check if the start and goal are within the boundaries of the map\n",
    "    for point in [start, goal]:\n",
    "       \n",
    "        if point[0]<0 and point[0]>=final_occupancy_grid.shape[0]:\n",
    "            raise Exception('Start node/goal node is not contained in the map')\n",
    "  \n",
    "        if point[1]<0 and point[1]>=final_occupancy_grid.shape[1]:\n",
    "            raise Exception('Start node/goal node is not contained in the map')\n",
    "    \n",
    "    # check if start and goal nodes correspond to free spaces\n",
    "    if final_occupancy_grid[start[0], start[1]]:\n",
    "        raise Exception('Start node is not traversable')\n",
    "\n",
    "    if final_occupancy_grid[goal[0], goal[1]]:\n",
    "        raise Exception('Goal node is not traversable')\n",
    "    \n",
    "    # get the possible movements \n",
    "    movements = _get_movements_8n()\n",
    "    \n",
    "    # The set of visited nodes that need to be (re-)expanded, i.e. for which the neighbors need to be explored\n",
    "    # Initially, only the start node is known.\n",
    "    openSet = [start]\n",
    "    \n",
    "    # The set of visited nodes that no longer need to be expanded.\n",
    "    closedSet = []\n",
    "\n",
    "    # For node n, cameFrom[n] is the node immediately preceding it on the cheapest path from start to n currently known.\n",
    "    cameFrom = dict()\n",
    "\n",
    "    # For node n, gScore[n] is the cost of the cheapest path from start to n currently known.\n",
    "    gScore = dict(zip(coords, [np.inf for x in range(len(coords))]))\n",
    "    gScore[start] = 0\n",
    "\n",
    "    # For node n, fScore[n] := gScore[n] + h(n). map with default value of Infinity\n",
    "    fScore = dict(zip(coords, [np.inf for x in range(len(coords))]))\n",
    "    fScore[start] = h[start]\n",
    "\n",
    "    # while there are still elements to investigate\n",
    "    while openSet != []:\n",
    "        \n",
    "        #the node in openSet having the lowest fScore[] value\n",
    "        fScore_openSet = {key:val for (key,val) in fScore.items() if key in openSet}\n",
    "        current = min(fScore_openSet, key=fScore_openSet.get)\n",
    "        del fScore_openSet\n",
    "        \n",
    "        #If the goal is reached, reconstruct and return the obtained path\n",
    "        if current == goal:\n",
    "            return reconstruct_path(cameFrom, current)\n",
    "        \n",
    "        openSet.remove(current)\n",
    "        closedSet.append(current)\n",
    "        \n",
    "        #for each neighbor of current:\n",
    "        for dx, dy, deltacost in movements:\n",
    "            \n",
    "            neighbor = (current[0]+dx, current[1]+dy)\n",
    "            \n",
    "            # if the node is not in the map, skip\n",
    "            if (neighbor[0] >= final_occupancy_grid.shape[0]) or (neighbor[1] >= final_occupancy_grid.shape[1]) or (neighbor[0] < 0) or (neighbor[1] < 0):\n",
    "                continue\n",
    "            \n",
    "            # if the node is occupied, skip\n",
    "            if (final_occupancy_grid[neighbor[0], neighbor[1]]):\n",
    "                continue\n",
    "                \n",
    "            # if the has already been visited, skip\n",
    "            if (neighbor in closedSet): \n",
    "                continue\n",
    "            # d(current,neighbor) is the weight of the edge from current to neighbor\n",
    "            # tentative_gScore is the distance from start to the neighbor through current\n",
    "            tentative_gScore = gScore[current] + deltacost\n",
    "            \n",
    "            if neighbor not in openSet:\n",
    "                openSet.append(neighbor)\n",
    "                \n",
    "            if tentative_gScore < gScore[neighbor]:\n",
    "                # This path to neighbor is better than any previous one. Record it!\n",
    "                cameFrom[neighbor] = current\n",
    "                gScore[neighbor] = tentative_gScore\n",
    "                fScore[neighbor] = gScore[neighbor] + h[neighbor]\n",
    "\n",
    "    # Open set is empty but goal was never reached\n",
    "    print(\"No path found to goal\")\n",
    "    return [], closedSet"
   ]
  },
  {
   "cell_type": "code",
   "execution_count": 132,
   "metadata": {
    "ExecuteTime": {
     "end_time": "2020-11-17T08:34:22.067777Z",
     "start_time": "2020-11-17T08:34:21.618274Z"
    }
   },
   "outputs": [],
   "source": [
    "# Define the start and end goal\n",
    "start = (26,5)\n",
    "goal = (3,26)\n",
    "   \n",
    "# Run the A* algorithm    \n",
    "path = A_Star(start, goal, final_occupancy_grid)\n",
    "path = np.array(path).reshape(-1, 2).transpose()\n",
    "\n",
    "def display_global_path(start, goal, path, occupancy_grid):\n",
    "\n",
    "    # Displaying the map\n",
    "    fig_astar, ax_astar = display_map(occupancy_grid, OCCUPANCY)\n",
    "    # ax_astar.imshow(occupancy_grid.transpose(), cmap=cmap)\n",
    "\n",
    "    # Plot the best path found and the list of visited nodes\n",
    "    ax_astar.plot(path[0], path[1], marker=\"o\", color = 'blue');\n",
    "    ax_astar.scatter(start[0], start[1], marker=\"o\", color = 'green', s=200);\n",
    "    ax_astar.scatter(goal[0], goal[1], marker=\"o\", color = 'purple', s=200);\n",
    "    ax.set_ylim(ax.get_ylim()[::-1])  "
   ]
  },
  {
   "cell_type": "code",
   "execution_count": 133,
   "metadata": {
    "ExecuteTime": {
     "end_time": "2020-11-17T08:34:23.090838Z",
     "start_time": "2020-11-17T08:34:22.708562Z"
    }
   },
   "outputs": [
    {
     "data": {
      "image/png": "[encoded data removed]",
      "text/plain": [
       "<Figure size 504x504 with 1 Axes>"
      ]
     },
     "metadata": {
      "needs_background": "light"
     },
     "output_type": "display_data"
    }
   ],
   "source": [
    "display_global_path(start, goal, path, final_occupancy_grid.transpose())\n"
   ]
  },
  {
   "cell_type": "markdown",
   "metadata": {},
   "source": [
    "- white cells : free cells\n",
    "- red cells : occupied cells\n",
    "- blue nodes : nodes corresponding to the optimal path\n",
    "- green circle : starting node\n",
    "- purple circle : target node"
   ]
  }
 ],
 "metadata": {
  "hide_input": false,
  "kernelspec": {
   "display_name": "Python 3",
   "language": "python",
   "name": "python3"
  },
  "language_info": {
   "codemirror_mode": {
    "name": "ipython",
    "version": 3
   },
   "file_extension": ".py",
   "mimetype": "text/x-python",
   "name": "python",
   "nbconvert_exporter": "python",
   "pygments_lexer": "ipython3",
   "version": "3.7.4"
  },
  "latex_envs": {
   "LaTeX_envs_menu_present": true,
   "autoclose": false,
   "autocomplete": true,
   "bibliofile": "biblio.bib",
   "cite_by": "apalike",
   "current_citInitial": 1,
   "eqLabelWithNumbers": true,
   "eqNumInitial": 1,
   "hotkeys": {
    "equation": "Ctrl-E",
    "itemize": "Ctrl-I"
   },
   "labels_anchors": false,
   "latex_user_defs": false,
   "report_style_numbering": false,
   "user_envs_cfg": false
  },
  "toc": {
   "base_numbering": 1,
   "nav_menu": {},
   "number_sections": true,
   "sideBar": true,
   "skip_h1_title": false,
   "title_cell": "Table of Contents",
   "title_sidebar": "Contents",
   "toc_cell": false,
   "toc_position": {},
   "toc_section_display": true,
   "toc_window_display": false
  }
 },
 "nbformat": 4,
 "nbformat_minor": 2
}
