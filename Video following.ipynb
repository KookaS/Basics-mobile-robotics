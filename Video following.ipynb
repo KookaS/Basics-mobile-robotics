{
 "cells": [
  {
   "cell_type": "markdown",
   "metadata": {},
   "source": [
    "# Camera tracking blue object\n",
    "\n",
    "Use the provided video or webcam"
   ]
  },
  {
   "cell_type": "code",
   "execution_count": 1,
   "metadata": {
    "scrolled": true
   },
   "outputs": [
    {
     "name": "stdout",
     "output_type": "stream",
     "text": [
      "Requirement already satisfied: opencv-python in c:\\users\\cheva\\anaconda3\\lib\\site-packages (4.4.0.44)"
     ]
    },
    {
     "name": "stderr",
     "output_type": "stream",
     "text": [
      "WARNING: You are using pip version 20.2.3; however, version 20.2.4 is available.\n",
      "You should consider upgrading via the 'c:\\users\\cheva\\anaconda3\\python.exe -m pip install --upgrade pip' command.\n"
     ]
    },
    {
     "name": "stdout",
     "output_type": "stream",
     "text": [
      "\n",
      "Requirement already satisfied: tqdm in c:\\users\\cheva\\anaconda3\\lib\\site-packages (4.47.0)\n",
      "Requirement already satisfied: matplotlib in c:\\users\\cheva\\anaconda3\\lib\\site-packages (3.2.2)\n",
      "Requirement already satisfied: numpy in c:\\users\\cheva\\anaconda3\\lib\\site-packages (1.18.5)\n",
      "Requirement already satisfied: ipywidgets in c:\\users\\cheva\\anaconda3\\lib\\site-packages (7.5.1)\n",
      "Requirement already satisfied: kiwisolver>=1.0.1 in c:\\users\\cheva\\anaconda3\\lib\\site-packages (from matplotlib) (1.2.0)\n",
      "Requirement already satisfied: cycler>=0.10 in c:\\users\\cheva\\anaconda3\\lib\\site-packages (from matplotlib) (0.10.0)\n",
      "Requirement already satisfied: python-dateutil>=2.1 in c:\\users\\cheva\\anaconda3\\lib\\site-packages (from matplotlib) (2.8.1)\n",
      "Requirement already satisfied: pyparsing!=2.0.4,!=2.1.2,!=2.1.6,>=2.0.1 in c:\\users\\cheva\\anaconda3\\lib\\site-packages (from matplotlib) (2.4.7)\n",
      "Requirement already satisfied: ipykernel>=4.5.1 in c:\\users\\cheva\\anaconda3\\lib\\site-packages (from ipywidgets) (5.3.2)\n",
      "Requirement already satisfied: nbformat>=4.2.0 in c:\\users\\cheva\\anaconda3\\lib\\site-packages (from ipywidgets) (5.0.7)\n",
      "Requirement already satisfied: traitlets>=4.3.1 in c:\\users\\cheva\\anaconda3\\lib\\site-packages (from ipywidgets) (4.3.3)\n",
      "Requirement already satisfied: widgetsnbextension~=3.5.0 in c:\\users\\cheva\\anaconda3\\lib\\site-packages (from ipywidgets) (3.5.1)\n",
      "Requirement already satisfied: ipython>=4.0.0; python_version >= \"3.3\" in c:\\users\\cheva\\anaconda3\\lib\\site-packages (from ipywidgets) (7.16.1)\n",
      "Requirement already satisfied: six in c:\\users\\cheva\\anaconda3\\lib\\site-packages (from cycler>=0.10->matplotlib) (1.15.0)\n",
      "Requirement already satisfied: tornado>=4.2 in c:\\users\\cheva\\anaconda3\\lib\\site-packages (from ipykernel>=4.5.1->ipywidgets) (6.0.4)\n",
      "Requirement already satisfied: jupyter-client in c:\\users\\cheva\\anaconda3\\lib\\site-packages (from ipykernel>=4.5.1->ipywidgets) (6.1.6)\n",
      "Requirement already satisfied: jsonschema!=2.5.0,>=2.4 in c:\\users\\cheva\\anaconda3\\lib\\site-packages (from nbformat>=4.2.0->ipywidgets) (3.2.0)\n",
      "Requirement already satisfied: jupyter-core in c:\\users\\cheva\\anaconda3\\lib\\site-packages (from nbformat>=4.2.0->ipywidgets) (4.6.3)\n",
      "Requirement already satisfied: ipython-genutils in c:\\users\\cheva\\anaconda3\\lib\\site-packages (from nbformat>=4.2.0->ipywidgets) (0.2.0)\n",
      "Requirement already satisfied: decorator in c:\\users\\cheva\\anaconda3\\lib\\site-packages (from traitlets>=4.3.1->ipywidgets) (4.4.2)\n",
      "Requirement already satisfied: notebook>=4.4.1 in c:\\users\\cheva\\anaconda3\\lib\\site-packages (from widgetsnbextension~=3.5.0->ipywidgets) (6.0.3)\n",
      "Requirement already satisfied: pygments in c:\\users\\cheva\\anaconda3\\lib\\site-packages (from ipython>=4.0.0; python_version >= \"3.3\"->ipywidgets) (2.6.1)\n",
      "Requirement already satisfied: jedi>=0.10 in c:\\users\\cheva\\anaconda3\\lib\\site-packages (from ipython>=4.0.0; python_version >= \"3.3\"->ipywidgets) (0.17.1)\n",
      "Requirement already satisfied: prompt-toolkit!=3.0.0,!=3.0.1,<3.1.0,>=2.0.0 in c:\\users\\cheva\\anaconda3\\lib\\site-packages (from ipython>=4.0.0; python_version >= \"3.3\"->ipywidgets) (3.0.5)\n",
      "Requirement already satisfied: setuptools>=18.5 in c:\\users\\cheva\\anaconda3\\lib\\site-packages (from ipython>=4.0.0; python_version >= \"3.3\"->ipywidgets) (49.2.0.post20200714)\n",
      "Requirement already satisfied: backcall in c:\\users\\cheva\\anaconda3\\lib\\site-packages (from ipython>=4.0.0; python_version >= \"3.3\"->ipywidgets) (0.2.0)\n",
      "Requirement already satisfied: colorama; sys_platform == \"win32\" in c:\\users\\cheva\\anaconda3\\lib\\site-packages (from ipython>=4.0.0; python_version >= \"3.3\"->ipywidgets) (0.4.3)\n",
      "Requirement already satisfied: pickleshare in c:\\users\\cheva\\anaconda3\\lib\\site-packages (from ipython>=4.0.0; python_version >= \"3.3\"->ipywidgets) (0.7.5)\n",
      "Requirement already satisfied: pyzmq>=13 in c:\\users\\cheva\\anaconda3\\lib\\site-packages (from jupyter-client->ipykernel>=4.5.1->ipywidgets) (19.0.1)\n",
      "Requirement already satisfied: pyrsistent>=0.14.0 in c:\\users\\cheva\\anaconda3\\lib\\site-packages (from jsonschema!=2.5.0,>=2.4->nbformat>=4.2.0->ipywidgets) (0.16.0)\n",
      "Requirement already satisfied: attrs>=17.4.0 in c:\\users\\cheva\\anaconda3\\lib\\site-packages (from jsonschema!=2.5.0,>=2.4->nbformat>=4.2.0->ipywidgets) (19.3.0)\n",
      "Requirement already satisfied: pywin32>=1.0; sys_platform == \"win32\" in c:\\users\\cheva\\anaconda3\\lib\\site-packages (from jupyter-core->nbformat>=4.2.0->ipywidgets) (227)\n",
      "Requirement already satisfied: terminado>=0.8.1 in c:\\users\\cheva\\anaconda3\\lib\\site-packages (from notebook>=4.4.1->widgetsnbextension~=3.5.0->ipywidgets) (0.8.3)\n",
      "Requirement already satisfied: prometheus-client in c:\\users\\cheva\\anaconda3\\lib\\site-packages (from notebook>=4.4.1->widgetsnbextension~=3.5.0->ipywidgets) (0.8.0)\n",
      "Requirement already satisfied: Send2Trash in c:\\users\\cheva\\anaconda3\\lib\\site-packages (from notebook>=4.4.1->widgetsnbextension~=3.5.0->ipywidgets) (1.5.0)\n",
      "Requirement already satisfied: jinja2 in c:\\users\\cheva\\anaconda3\\lib\\site-packages (from notebook>=4.4.1->widgetsnbextension~=3.5.0->ipywidgets) (2.11.2)\n",
      "Requirement already satisfied: nbconvert in c:\\users\\cheva\\anaconda3\\lib\\site-packages (from notebook>=4.4.1->widgetsnbextension~=3.5.0->ipywidgets) (5.6.1)\n",
      "Requirement already satisfied: parso<0.8.0,>=0.7.0 in c:\\users\\cheva\\anaconda3\\lib\\site-packages (from jedi>=0.10->ipython>=4.0.0; python_version >= \"3.3\"->ipywidgets) (0.7.0)\n",
      "Requirement already satisfied: wcwidth in c:\\users\\cheva\\anaconda3\\lib\\site-packages (from prompt-toolkit!=3.0.0,!=3.0.1,<3.1.0,>=2.0.0->ipython>=4.0.0; python_version >= \"3.3\"->ipywidgets) (0.2.5)\n",
      "Requirement already satisfied: MarkupSafe>=0.23 in c:\\users\\cheva\\anaconda3\\lib\\site-packages (from jinja2->notebook>=4.4.1->widgetsnbextension~=3.5.0->ipywidgets) (1.1.1)\n",
      "Requirement already satisfied: pandocfilters>=1.4.1 in c:\\users\\cheva\\anaconda3\\lib\\site-packages (from nbconvert->notebook>=4.4.1->widgetsnbextension~=3.5.0->ipywidgets) (1.4.2)\n",
      "Requirement already satisfied: mistune<2,>=0.8.1 in c:\\users\\cheva\\anaconda3\\lib\\site-packages (from nbconvert->notebook>=4.4.1->widgetsnbextension~=3.5.0->ipywidgets) (0.8.4)\n",
      "Requirement already satisfied: testpath in c:\\users\\cheva\\anaconda3\\lib\\site-packages (from nbconvert->notebook>=4.4.1->widgetsnbextension~=3.5.0->ipywidgets) (0.4.4)\n",
      "Requirement already satisfied: entrypoints>=0.2.2 in c:\\users\\cheva\\anaconda3\\lib\\site-packages (from nbconvert->notebook>=4.4.1->widgetsnbextension~=3.5.0->ipywidgets) (0.3)\n",
      "Requirement already satisfied: defusedxml in c:\\users\\cheva\\anaconda3\\lib\\site-packages (from nbconvert->notebook>=4.4.1->widgetsnbextension~=3.5.0->ipywidgets) (0.6.0)\n",
      "Requirement already satisfied: bleach in c:\\users\\cheva\\anaconda3\\lib\\site-packages (from nbconvert->notebook>=4.4.1->widgetsnbextension~=3.5.0->ipywidgets) (3.1.5)\n",
      "Requirement already satisfied: webencodings in c:\\users\\cheva\\anaconda3\\lib\\site-packages (from bleach->nbconvert->notebook>=4.4.1->widgetsnbextension~=3.5.0->ipywidgets) (0.5.1)\n",
      "Requirement already satisfied: packaging in c:\\users\\cheva\\anaconda3\\lib\\site-packages (from bleach->nbconvert->notebook>=4.4.1->widgetsnbextension~=3.5.0->ipywidgets) (20.4)\n"
     ]
    },
    {
     "name": "stderr",
     "output_type": "stream",
     "text": [
      "Enabling notebook extension jupyter-js-widgets/extension...\n",
      "      - Validating: ok\n"
     ]
    }
   ],
   "source": [
    "!pip install opencv-python tqdm matplotlib numpy ipywidgets\n",
    "!jupyter nbextension enable --py widgetsnbextension"
   ]
  },
  {
   "cell_type": "code",
   "execution_count": 2,
   "metadata": {},
   "outputs": [],
   "source": [
    "#le mieux avec un mask bleu\n",
    "\n",
    "import cv2\n",
    "import numpy as np\n",
    "\n",
    "# i = 0 pour main webcam aka built in, 1 for first usb port etc\n",
    "#cap = cv2.VideoCapture(i)\n",
    "\n",
    "\n",
    "\n",
    "#cap = cv2.VideoCapture('test.mp4')\n",
    "cap = cv2.VideoCapture('long.mov')\n",
    "\n",
    "fW = int(cap.get(cv2.CAP_PROP_FRAME_WIDTH))\n",
    "fH = int(cap.get(cv2.CAP_PROP_FRAME_HEIGHT))\n",
    "gW = 44\n",
    "gH = 42\n",
    "cam_grid_ratio = (gW/fW, gH/fH)\n",
    "\n",
    "low_blue = np.array([110,50,50])\n",
    "up_blue = np.array([132,255,255])\n",
    "\n",
    "while(1):\n",
    "    \n",
    "    _, frame = cap.read()\n",
    "    hsv = cv2.cvtColor(frame, cv2.COLOR_BGR2HSV)\n",
    "    \n",
    "    mask = cv2.inRange(hsv, low_blue, up_blue)\n",
    "    res = cv2.bitwise_and(frame,frame, mask= mask)\n",
    "   \n",
    "\n",
    "    contours, hierarchy = cv2.findContours(mask,cv2.RETR_TREE,cv2.CHAIN_APPROX_SIMPLE)[-2:]\n",
    "    areas = [cv2.contourArea(c) for c in contours]\n",
    "    if len(areas) < 1:\n",
    "\n",
    "        # Display the resulting frame\n",
    "        frame = cv2.resize(frame, (0, 0), None, .5, .5)\n",
    "        cv2.imshow('frame',frame)\n",
    "        # If \"q\" is pressed on the keyboard, exit this loop\n",
    "        if cv2.waitKey(1) & 0xFF == ord('q'):\n",
    "            break\n",
    "\n",
    "                \n",
    "        continue\n",
    "\n",
    "    else:\n",
    "        # Find the largest moving object in the image\n",
    "        max_index = np.argmax(areas)\n",
    "                \n",
    "        cnt = contours[max_index]\n",
    "            \n",
    "        epsilon = 0.005*cv2.arcLength(cnt,True)\n",
    "        approx = cv2.approxPolyDP(cnt,epsilon,True)\n",
    "        hull = cv2.convexHull(cnt, returnPoints=False)\n",
    "        cv2.drawContours(frame, [approx], -1, (0, 0, 255), 3)\n",
    "        \n",
    "        x,y,w,h = cv2.boundingRect(cnt)\n",
    "        #cv2.rectangle(frame,(x,y),(x+w,y+h),(0,255,0),3)\n",
    " \n",
    "        # Draw circle in the center of the bounding box\n",
    "        x2 = x + int(w/2)\n",
    "        y2 = y + int(h/2)\n",
    "        cv2.circle(frame,(x2,y2),4,(255,255,0),-1)\n",
    " \n",
    "    # Print the centroid coordinates (we'll use the center of the\n",
    "    # bounding box) on the image\n",
    "        text = \"x: \" + str(x2) + \", y: \" + str(y2)\n",
    "        cv2.putText(frame, text, (x2 - 10, y2 - 10),\n",
    "        cv2.FONT_HERSHEY_SIMPLEX, 0.5, (255, 255, 0), 2)\n",
    "        \n",
    "        text2 = \"x: \" + str(int(x2*cam_grid_ratio[0])) + \", y: \" + str(gW-int(y2*cam_grid_ratio[1]))\n",
    "        cv2.putText(frame, text2, (x2 - 10, y2 + 20),\n",
    "        cv2.FONT_HERSHEY_SIMPLEX, 0.5, (255, 255, 0), 2)\n",
    "        \n",
    "        frame = cv2.resize(frame, (0, 0), None, .5, .5)\n",
    "        cv2.imshow('frame',frame)\n",
    "    if cv2.waitKey(1) & 0xFF == ord('q'):\n",
    "        break\n",
    "        \n",
    "cv2.destroyAllWindows()\n",
    "cap.release()"
   ]
  },
  {
   "cell_type": "code",
   "execution_count": null,
   "metadata": {},
   "outputs": [],
   "source": []
  }
 ],
 "metadata": {
  "kernelspec": {
   "display_name": "Python 3",
   "language": "python",
   "name": "python3"
  },
  "language_info": {
   "codemirror_mode": {
    "name": "ipython",
    "version": 3
   },
   "file_extension": ".py",
   "mimetype": "text/x-python",
   "name": "python",
   "nbconvert_exporter": "python",
   "pygments_lexer": "ipython3",
   "version": "3.8.3"
  }
 },
 "nbformat": 4,
 "nbformat_minor": 4
}
